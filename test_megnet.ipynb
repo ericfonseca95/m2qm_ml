{
 "cells": [
  {
   "cell_type": "code",
   "execution_count": 1,
   "metadata": {},
   "outputs": [],
   "source": [
    "# Simple training of multi-fidelity MEGNet bandgap model for materials project (version:mp.2019.4.1.json)\n",
    "import gzip\n",
    "import json\n",
    "from typing import List\n",
    "\n",
    "import os\n",
    "import torch\n",
    "import torch.nn as nn\n",
    "import torch.nn.functional as F\n",
    "from copy import deepcopy\n",
    "\n",
    "import math\n",
    "\n",
    "# Import megnet related modules\n",
    "from pymatgen.core import Structure\n",
    "from matgl.ext.pymatgen import get_element_list, Structure2Graph\n",
    "from matgl.layers._bond import BondExpansion\n",
    "from torch.optim.lr_scheduler import CosineAnnealingLR\n",
    "from matgl.graph.data import MEGNetDataset, _collate_fn, MGLDataLoader\n",
    "from matgl.models import MEGNet\n",
    "#from matgl.utils.training import ModelTrainer\n",
    "from sklearn.model_selection import train_test_split\n",
    "\n",
    "\n",
    "# os.chdir('/blue/hennig/ericfonseca/M2QM/TMQM/workspace/notebooks')\n",
    "os.chdir(r'C:\\Users\\efons\\Documents\\GitHub\\m2qm_ml')\n",
    "# disable warnings in python outputs\n",
    "import warnings\n",
    "warnings.filterwarnings('ignore')"
   ]
  },
  {
   "cell_type": "code",
   "execution_count": 2,
   "metadata": {},
   "outputs": [
    {
     "data": {
      "text/plain": [
       "250"
      ]
     },
     "execution_count": 2,
     "metadata": {},
     "output_type": "execute_result"
    }
   ],
   "source": [
    "cif_path = './sco/cif'\n",
    "from pymatgen.core import Structure\n",
    "from pymatgen.io.ase import AseAtomsAdaptor\n",
    "from ase.io import read\n",
    "def get_struc(cif_path):\n",
    "    try:\n",
    "        struc_ase = read(cif_path)\n",
    "        struc = AseAtomsAdaptor.get_structure(struc_ase)\n",
    "    except:\n",
    "        print(cif_path)\n",
    "        struc = None\n",
    "    return struc\n",
    "cif_paths = [os.path.abspath(os.path.join(cif_path,i)) for i in os.listdir(cif_path) if i.endswith('.cif')][0:250]\n",
    "import dask\n",
    "strucs = dask.compute([dask.delayed(get_struc)(i) for i in cif_paths])[0]\n",
    "len(strucs)\n"
   ]
  },
  {
   "cell_type": "code",
   "execution_count": 3,
   "metadata": {},
   "outputs": [
    {
     "data": {
      "text/plain": [
       "('H',\n",
       " 'B',\n",
       " 'C',\n",
       " 'N',\n",
       " 'O',\n",
       " 'F',\n",
       " 'Na',\n",
       " 'Mg',\n",
       " 'Al',\n",
       " 'Si',\n",
       " 'P',\n",
       " 'S',\n",
       " 'Cl',\n",
       " 'K',\n",
       " 'Cr',\n",
       " 'Mn',\n",
       " 'Fe',\n",
       " 'Co',\n",
       " 'Zn',\n",
       " 'Ge',\n",
       " 'As',\n",
       " 'Se',\n",
       " 'Br',\n",
       " 'Mo',\n",
       " 'Sb',\n",
       " 'I',\n",
       " 'Dy')"
      ]
     },
     "execution_count": 3,
     "metadata": {},
     "output_type": "execute_result"
    }
   ],
   "source": [
    "elem_list = get_element_list(strucs)\n",
    "elem_list\n",
    "\n"
   ]
  },
  {
   "cell_type": "code",
   "execution_count": 4,
   "metadata": {},
   "outputs": [
    {
     "data": {
      "text/plain": [
       "<matgl.ext.pymatgen.Structure2Graph at 0x18d302c3110>"
      ]
     },
     "execution_count": 4,
     "metadata": {},
     "output_type": "execute_result"
    }
   ],
   "source": [
    "cry_graph = Structure2Graph(element_types=elem_list, cutoff=5.0)\n",
    "cry_graph"
   ]
  },
  {
   "cell_type": "code",
   "execution_count": 5,
   "metadata": {},
   "outputs": [
    {
     "data": {
      "text/html": [
       "<div>\n",
       "<style scoped>\n",
       "    .dataframe tbody tr th:only-of-type {\n",
       "        vertical-align: middle;\n",
       "    }\n",
       "\n",
       "    .dataframe tbody tr th {\n",
       "        vertical-align: top;\n",
       "    }\n",
       "\n",
       "    .dataframe thead th {\n",
       "        text-align: right;\n",
       "    }\n",
       "</style>\n",
       "<table border=\"1\" class=\"dataframe\">\n",
       "  <thead>\n",
       "    <tr style=\"text-align: right;\">\n",
       "      <th></th>\n",
       "      <th>ID</th>\n",
       "    </tr>\n",
       "  </thead>\n",
       "  <tbody>\n",
       "    <tr>\n",
       "      <th>0</th>\n",
       "      <td>ABILUT</td>\n",
       "    </tr>\n",
       "    <tr>\n",
       "      <th>1</th>\n",
       "      <td>ACEYOW</td>\n",
       "    </tr>\n",
       "    <tr>\n",
       "      <th>2</th>\n",
       "      <td>ACEYOW01</td>\n",
       "    </tr>\n",
       "    <tr>\n",
       "      <th>3</th>\n",
       "      <td>ACUFAF</td>\n",
       "    </tr>\n",
       "    <tr>\n",
       "      <th>4</th>\n",
       "      <td>ADEQOS</td>\n",
       "    </tr>\n",
       "    <tr>\n",
       "      <th>...</th>\n",
       "      <td>...</td>\n",
       "    </tr>\n",
       "    <tr>\n",
       "      <th>245</th>\n",
       "      <td>DIMPEU11</td>\n",
       "    </tr>\n",
       "    <tr>\n",
       "      <th>246</th>\n",
       "      <td>DIVCAO</td>\n",
       "    </tr>\n",
       "    <tr>\n",
       "      <th>247</th>\n",
       "      <td>DIXCOD</td>\n",
       "    </tr>\n",
       "    <tr>\n",
       "      <th>248</th>\n",
       "      <td>DMAZCO</td>\n",
       "    </tr>\n",
       "    <tr>\n",
       "      <th>249</th>\n",
       "      <td>DMAZCO01</td>\n",
       "    </tr>\n",
       "  </tbody>\n",
       "</table>\n",
       "<p>250 rows × 1 columns</p>\n",
       "</div>"
      ],
      "text/plain": [
       "           ID\n",
       "0      ABILUT\n",
       "1      ACEYOW\n",
       "2    ACEYOW01\n",
       "3      ACUFAF\n",
       "4      ADEQOS\n",
       "..        ...\n",
       "245  DIMPEU11\n",
       "246    DIVCAO\n",
       "247    DIXCOD\n",
       "248    DMAZCO\n",
       "249  DMAZCO01\n",
       "\n",
       "[250 rows x 1 columns]"
      ]
     },
     "execution_count": 5,
     "metadata": {},
     "output_type": "execute_result"
    }
   ],
   "source": [
    "import pandas as pd\n",
    "import numpy as np\n",
    "df = pd.read_csv('./sco/data.csv')\n",
    "targets = df['SpinCrossoverEnergy'].values\n",
    "cif_df = pd.DataFrame()\n",
    "import re\n",
    "cif_df['ID'] = [re.split(r'\\\\|/',i)[-1].split('.')[0] for i in cif_paths]\n",
    "cif_df"
   ]
  },
  {
   "cell_type": "code",
   "execution_count": 16,
   "metadata": {},
   "outputs": [
    {
     "data": {
      "text/plain": [
       "(['CAXTIH',\n",
       "  'ALETAN',\n",
       "  'BOZNIP',\n",
       "  'BEHYES',\n",
       "  'BUZPUJ',\n",
       "  'CONICH02',\n",
       "  'CPMNCO01',\n",
       "  'CONICH05',\n",
       "  'AMAVAN',\n",
       "  'BUCZOO',\n",
       "  'CPMNCO04',\n",
       "  'CYCPCR01',\n",
       "  'DEXCUE',\n",
       "  'DIHZEC',\n",
       "  'BEPTIA',\n",
       "  'DAPCOM',\n",
       "  'COTQUY',\n",
       "  'APENCP',\n",
       "  'CITCUD',\n",
       "  'ATEWAZ',\n",
       "  'DIXCOD',\n",
       "  'APICCO07',\n",
       "  'BZCRCO',\n",
       "  'BEXNIB10',\n",
       "  'CITBIT',\n",
       "  'BAFJEA01',\n",
       "  'BAZZEG',\n",
       "  'AMECOA01',\n",
       "  'AYADEJ',\n",
       "  'CABGOB',\n",
       "  'CPMNCO05',\n",
       "  'AYEKAS',\n",
       "  'CAVFUA',\n",
       "  'DAGMAA',\n",
       "  'ATOFEW',\n",
       "  'BUXHOR',\n",
       "  'APICCO06',\n",
       "  'CPCIFE01',\n",
       "  'CONICH01',\n",
       "  'CICMOQ',\n",
       "  'BZCRCO14',\n",
       "  'BOZLUZ',\n",
       "  'BUSXIW',\n",
       "  'COPKEY',\n",
       "  'DAMXUL',\n",
       "  'APICCO02',\n",
       "  'CEHZIZ',\n",
       "  'BEXXOT',\n",
       "  'CIMTID',\n",
       "  'AZEQAZ'],\n",
       " array([-1.9306, -1.4628, -0.0688,  2.628 , -0.3237,  0.4901,  2.2705,\n",
       "        -0.5822, -1.8176,  1.1175,  2.2723, -0.9655,  2.3009, -0.299 ,\n",
       "        -0.9479, -0.3031, -0.7613, -0.144 ,  1.8746,  0.2079,  0.0815,\n",
       "        -0.2605,  2.73  , -0.1015,  1.6243,  3.7648,  3.0127,  1.6272,\n",
       "        -1.4156,  0.3579,  2.2712, -0.5401,  4.1115, -0.9068, -0.7367,\n",
       "         1.2114,  0.4334,  1.0362, -0.1938,  3.4053,  2.7352, -0.1372,\n",
       "         2.7605,  2.5611, -2.0397, -0.2605, -1.9417,  0.5954, -0.2288,\n",
       "         2.6107]),\n",
       " array([0, 0, 1, 0, 0, 1, 0, 0, 0, 0, 0, 0, 0, 0, 0, 0, 0, 1, 0, 1, 1, 0,\n",
       "        0, 1, 0, 0, 0, 0, 0, 1, 0, 0, 0, 0, 0, 0, 1, 0, 1, 0, 0, 1, 0, 0,\n",
       "        0, 0, 0, 0, 0, 0]))"
      ]
     },
     "execution_count": 16,
     "metadata": {},
     "output_type": "execute_result"
    }
   ],
   "source": [
    "\n",
    "df = pd.merge(cif_df, df, on='ID')\n",
    "train_df, test_df = train_test_split(df, test_size=0.2, random_state=42)\n",
    "\n",
    "# setup the weight initialization using Xavier scheme\n",
    "def xavier_init(model):\n",
    "    for name, param in model.named_parameters():\n",
    "        if name.endswith(\".bias\"):\n",
    "            param.data.fill_(0)\n",
    "        else:\n",
    "            if param.dim() < 2:\n",
    "                bound = math.sqrt(6) / math.sqrt(param.shape[0] + param.shape[0])\n",
    "                param.data.uniform_(-bound, bound)\n",
    "            else:\n",
    "                bound = math.sqrt(6) / math.sqrt(param.shape[0] + param.shape[1])\n",
    "                param.data.uniform_(-bound, bound)\n",
    "\n",
    "def get_data(df):\n",
    "    ids = df['ID'].tolist()\n",
    "    targets = df['SpinCrossoverEnergy'].values\n",
    "    # convert the boolean in IsSpinCrossover to int\n",
    "    attrs = df['IsSpinCrossover'].astype(int).values\n",
    "    return ids, targets, attrs\n",
    "\n",
    "train_df, valid_df = train_test_split(train_df, test_size=0.5, random_state=42)\n",
    "train_ids, train_targets, train_attrs = get_data(train_df)\n",
    "valid_ids, valid_targets, valid_attrs = get_data(valid_df)\n",
    "test_ids, test_targets, test_attrs = get_data(test_df)\n",
    "test_ids, test_targets, test_attrs"
   ]
  },
  {
   "cell_type": "code",
   "execution_count": 17,
   "metadata": {},
   "outputs": [
    {
     "data": {
      "text/html": [
       "<div>\n",
       "<style scoped>\n",
       "    .dataframe tbody tr th:only-of-type {\n",
       "        vertical-align: middle;\n",
       "    }\n",
       "\n",
       "    .dataframe tbody tr th {\n",
       "        vertical-align: top;\n",
       "    }\n",
       "\n",
       "    .dataframe thead th {\n",
       "        text-align: right;\n",
       "    }\n",
       "</style>\n",
       "<table border=\"1\" class=\"dataframe\">\n",
       "  <thead>\n",
       "    <tr style=\"text-align: right;\">\n",
       "      <th></th>\n",
       "      <th>ID</th>\n",
       "      <th>SpinCrossoverEnergy</th>\n",
       "      <th>HomoLumoGap</th>\n",
       "      <th>IsSpinCrossover</th>\n",
       "      <th>TransitionMetal</th>\n",
       "    </tr>\n",
       "  </thead>\n",
       "  <tbody>\n",
       "    <tr>\n",
       "      <th>0</th>\n",
       "      <td>ABILUT</td>\n",
       "      <td>-1.2004</td>\n",
       "      <td>3.3529</td>\n",
       "      <td>False</td>\n",
       "      <td>Cr</td>\n",
       "    </tr>\n",
       "    <tr>\n",
       "      <th>1</th>\n",
       "      <td>ACEYOW</td>\n",
       "      <td>0.8681</td>\n",
       "      <td>2.8624</td>\n",
       "      <td>False</td>\n",
       "      <td>Fe</td>\n",
       "    </tr>\n",
       "    <tr>\n",
       "      <th>2</th>\n",
       "      <td>ACEYOW01</td>\n",
       "      <td>0.8682</td>\n",
       "      <td>2.8645</td>\n",
       "      <td>False</td>\n",
       "      <td>Fe</td>\n",
       "    </tr>\n",
       "    <tr>\n",
       "      <th>3</th>\n",
       "      <td>ACUFAF</td>\n",
       "      <td>2.4450</td>\n",
       "      <td>2.4446</td>\n",
       "      <td>False</td>\n",
       "      <td>Cr</td>\n",
       "    </tr>\n",
       "    <tr>\n",
       "      <th>4</th>\n",
       "      <td>ADEQOS</td>\n",
       "      <td>0.6977</td>\n",
       "      <td>1.3704</td>\n",
       "      <td>False</td>\n",
       "      <td>Co</td>\n",
       "    </tr>\n",
       "    <tr>\n",
       "      <th>...</th>\n",
       "      <td>...</td>\n",
       "      <td>...</td>\n",
       "      <td>...</td>\n",
       "      <td>...</td>\n",
       "      <td>...</td>\n",
       "    </tr>\n",
       "    <tr>\n",
       "      <th>245</th>\n",
       "      <td>DIMPEU11</td>\n",
       "      <td>-1.5126</td>\n",
       "      <td>2.7494</td>\n",
       "      <td>False</td>\n",
       "      <td>Mn</td>\n",
       "    </tr>\n",
       "    <tr>\n",
       "      <th>246</th>\n",
       "      <td>DIVCAO</td>\n",
       "      <td>-0.6040</td>\n",
       "      <td>1.4267</td>\n",
       "      <td>False</td>\n",
       "      <td>Mn</td>\n",
       "    </tr>\n",
       "    <tr>\n",
       "      <th>247</th>\n",
       "      <td>DIXCOD</td>\n",
       "      <td>0.0815</td>\n",
       "      <td>0.7869</td>\n",
       "      <td>True</td>\n",
       "      <td>Co</td>\n",
       "    </tr>\n",
       "    <tr>\n",
       "      <th>248</th>\n",
       "      <td>DMAZCO</td>\n",
       "      <td>-0.4330</td>\n",
       "      <td>1.7411</td>\n",
       "      <td>False</td>\n",
       "      <td>Co</td>\n",
       "    </tr>\n",
       "    <tr>\n",
       "      <th>249</th>\n",
       "      <td>DMAZCO01</td>\n",
       "      <td>-0.4354</td>\n",
       "      <td>1.7409</td>\n",
       "      <td>False</td>\n",
       "      <td>Co</td>\n",
       "    </tr>\n",
       "  </tbody>\n",
       "</table>\n",
       "<p>250 rows × 5 columns</p>\n",
       "</div>"
      ],
      "text/plain": [
       "           ID  SpinCrossoverEnergy  HomoLumoGap  IsSpinCrossover   \n",
       "0      ABILUT              -1.2004       3.3529            False  \\\n",
       "1      ACEYOW               0.8681       2.8624            False   \n",
       "2    ACEYOW01               0.8682       2.8645            False   \n",
       "3      ACUFAF               2.4450       2.4446            False   \n",
       "4      ADEQOS               0.6977       1.3704            False   \n",
       "..        ...                  ...          ...              ...   \n",
       "245  DIMPEU11              -1.5126       2.7494            False   \n",
       "246    DIVCAO              -0.6040       1.4267            False   \n",
       "247    DIXCOD               0.0815       0.7869             True   \n",
       "248    DMAZCO              -0.4330       1.7411            False   \n",
       "249  DMAZCO01              -0.4354       1.7409            False   \n",
       "\n",
       "    TransitionMetal  \n",
       "0                Cr  \n",
       "1                Fe  \n",
       "2                Fe  \n",
       "3                Cr  \n",
       "4                Co  \n",
       "..              ...  \n",
       "245              Mn  \n",
       "246              Mn  \n",
       "247              Co  \n",
       "248              Co  \n",
       "249              Co  \n",
       "\n",
       "[250 rows x 5 columns]"
      ]
     },
     "execution_count": 17,
     "metadata": {},
     "output_type": "execute_result"
    }
   ],
   "source": [
    "df"
   ]
  },
  {
   "cell_type": "code",
   "execution_count": null,
   "metadata": {},
   "outputs": [],
   "source": []
  },
  {
   "cell_type": "code",
   "execution_count": 18,
   "metadata": {},
   "outputs": [
    {
     "data": {
      "text/plain": [
       "Structure Summary\n",
       "Lattice\n",
       "    abc : 13.7304 5.5516 18.4034\n",
       " angles : 90.0 101.964 90.0\n",
       " volume : 1372.3400190653074\n",
       "      A : 13.7304 0.0 0.0\n",
       "      B : 0.0 5.5516 0.0\n",
       "      C : -3.8149707426168282 0.0 18.00364212577493\n",
       "    pbc : True True True\n",
       "PeriodicSite: Co (3.5399, 2.4005, 7.2155) [0.3692, 0.4324, 0.4008]\n",
       "PeriodicSite: Co (1.6324, 3.1511, 16.2173) [0.3692, 0.5676, 0.9008]\n",
       "PeriodicSite: Co (10.4051, 5.1763, 7.2155) [0.8692, 0.9324, 0.4008]\n",
       "PeriodicSite: Co (8.4976, 0.3753, 16.2173) [0.8692, 0.0676, 0.9008]\n",
       "PeriodicSite: O (3.8119, 3.4420, 5.6098) [0.3642, 0.6200, 0.3116]\n",
       "PeriodicSite: O (1.9044, 2.1096, 14.6116) [0.3642, 0.3800, 0.8116]\n",
       "PeriodicSite: O (10.6771, 0.6662, 5.6098) [0.8642, 0.1200, 0.3116]\n",
       "PeriodicSite: O (8.7696, 4.8854, 14.6116) [0.8642, 0.8800, 0.8116]\n",
       "PeriodicSite: O (3.2983, 3.4264, 8.8207) [0.3764, 0.6172, 0.4899]\n",
       "PeriodicSite: O (1.3908, 2.1252, 17.8225) [0.3764, 0.3828, 0.9899]\n",
       "PeriodicSite: O (10.1635, 0.6506, 8.8207) [0.8764, 0.1172, 0.4899]\n",
       "PeriodicSite: O (8.2560, 4.9010, 17.8225) [0.8764, 0.8828, 0.9899]\n",
       "PeriodicSite: C (1.9165, 2.4954, 4.4721) [0.2086, 0.4495, 0.2484]\n",
       "PeriodicSite: C (0.0090, 3.0562, 13.4739) [0.2086, 0.5505, 0.7484]\n",
       "PeriodicSite: C (8.7817, 5.2712, 4.4721) [0.7086, 0.9495, 0.2484]\n",
       "PeriodicSite: C (6.8742, 0.2804, 13.4739) [0.7086, 0.0505, 0.7484]\n",
       "PeriodicSite: N (2.0117, 1.3329, 6.5695) [0.2479, 0.2401, 0.3649]\n",
       "PeriodicSite: N (0.1042, 4.2187, 15.5714) [0.2479, 0.7599, 0.8649]\n",
       "PeriodicSite: N (8.8769, 4.1087, 6.5695) [0.7479, 0.7401, 0.3649]\n",
       "PeriodicSite: N (6.9694, 1.4429, 15.5714) [0.7479, 0.2599, 0.8649]\n",
       "PeriodicSite: C (5.1510, 2.5243, 10.0010) [0.5295, 0.4547, 0.5555]\n",
       "PeriodicSite: C (7.0585, 3.0273, 0.9992) [0.5295, 0.5453, 0.0555]\n",
       "PeriodicSite: C (-1.7142, 5.3001, 10.0010) [0.0295, 0.9547, 0.5555]\n",
       "PeriodicSite: C (0.1933, 0.2515, 0.9992) [0.0295, 0.0453, 0.0555]\n",
       "PeriodicSite: H (5.6312, 2.6076, 10.7932) [0.5767, 0.4697, 0.5995]\n",
       "PeriodicSite: H (7.5387, 2.9440, 1.7914) [0.5767, 0.5303, 0.0995]\n",
       "PeriodicSite: H (-1.2340, 5.3834, 10.7932) [0.0767, 0.9697, 0.5995]\n",
       "PeriodicSite: H (0.6735, 0.1682, 1.7914) [0.0767, 0.0303, 0.0995]\n",
       "PeriodicSite: N (5.0560, 1.3546, 7.8834) [0.4899, 0.2440, 0.4379]\n",
       "PeriodicSite: N (3.1485, 4.1970, 16.8853) [0.4899, 0.7560, 0.9379]\n",
       "PeriodicSite: N (11.9212, 4.1304, 7.8834) [0.9899, 0.7440, 0.4379]\n",
       "PeriodicSite: N (10.0137, 1.4212, 16.8853) [0.9899, 0.2560, 0.9379]\n",
       "PeriodicSite: C (1.4750, 1.5367, 5.3507) [0.1900, 0.2768, 0.2972]\n",
       "PeriodicSite: C (-0.4325, 4.0149, 14.3525) [0.1900, 0.7232, 0.7972]\n",
       "PeriodicSite: C (8.3402, 4.3125, 5.3507) [0.6900, 0.7768, 0.2972]\n",
       "PeriodicSite: C (6.4327, 1.2391, 14.3525) [0.6900, 0.2232, 0.7972]\n",
       "PeriodicSite: C (1.4922, 0.2820, 7.4337) [0.2234, 0.0508, 0.4129]\n",
       "PeriodicSite: C (-0.4153, 5.2696, 16.4355) [0.2234, 0.9492, 0.9129]\n",
       "PeriodicSite: C (8.3574, 3.0578, 7.4337) [0.7234, 0.5508, 0.4129]\n",
       "PeriodicSite: C (6.4499, 2.4938, 16.4355) [0.7234, 0.4492, 0.9129]\n",
       "PeriodicSite: H (1.9171, 0.3348, 8.2925) [0.2676, 0.0603, 0.4606]\n",
       "PeriodicSite: H (0.0096, 5.2168, 17.2943) [0.2676, 0.9397, 0.9606]\n",
       "PeriodicSite: H (8.7823, 3.1106, 8.2925) [0.7676, 0.5603, 0.4606]\n",
       "PeriodicSite: H (6.8748, 2.4410, 17.2943) [0.7676, 0.4397, 0.9606]\n",
       "PeriodicSite: H (1.6718, 4.9770, 7.0394) [0.2304, 0.8965, 0.3910]\n",
       "PeriodicSite: H (-0.2357, 0.5746, 16.0412) [0.2304, 0.1035, 0.8910]\n",
       "PeriodicSite: H (8.5370, 2.2012, 7.0394) [0.7304, 0.3965, 0.3910]\n",
       "PeriodicSite: H (6.6295, 3.3504, 16.0412) [0.7304, 0.6035, 0.8910]\n",
       "PeriodicSite: H (0.5446, 0.3931, 7.5381) [0.1560, 0.0708, 0.4187]\n",
       "PeriodicSite: H (-1.3629, 5.1585, 16.5399) [0.1560, 0.9292, 0.9187]\n",
       "PeriodicSite: H (7.4098, 3.1689, 7.5381) [0.6560, 0.5708, 0.4187]\n",
       "PeriodicSite: H (5.5023, 2.3827, 16.5399) [0.6560, 0.4292, 0.9187]\n",
       "PeriodicSite: C (4.0641, 3.3571, 9.8174) [0.4475, 0.6047, 0.5453]\n",
       "PeriodicSite: C (5.9715, 2.1945, 0.8156) [0.4475, 0.3953, 0.0453]\n",
       "PeriodicSite: C (10.9293, 0.5813, 9.8174) [0.9475, 0.1047, 0.5453]\n",
       "PeriodicSite: C (12.8367, 4.9703, 0.8156) [0.9475, 0.8953, 0.0453]\n",
       "PeriodicSite: C (5.5610, 0.2576, 7.0232) [0.5134, 0.0464, 0.3901]\n",
       "PeriodicSite: C (3.6535, 5.2940, 16.0250) [0.5134, 0.9536, 0.8901]\n",
       "PeriodicSite: C (-1.3042, 3.0334, 7.0232) [0.0134, 0.5464, 0.3901]\n",
       "PeriodicSite: C (-3.2117, 2.5182, 16.0250) [0.0134, 0.4536, 0.8901]\n",
       "PeriodicSite: H (5.6276, 5.0025, 7.5381) [0.5262, 0.9011, 0.4187]\n",
       "PeriodicSite: H (3.7201, 0.5491, 16.5399) [0.5262, 0.0989, 0.9187]\n",
       "PeriodicSite: H (-1.2376, 2.2267, 7.5381) [0.0262, 0.4011, 0.4187]\n",
       "PeriodicSite: H (-3.1451, 3.3249, 16.5399) [0.0262, 0.5989, 0.9187]\n",
       "PeriodicSite: H (6.4271, 0.4913, 6.6812) [0.5712, 0.0885, 0.3711]\n",
       "PeriodicSite: H (4.5196, 5.0603, 15.6830) [0.5712, 0.9115, 0.8711]\n",
       "PeriodicSite: H (-0.4381, 3.2671, 6.6812) [0.0712, 0.5885, 0.3711]\n",
       "PeriodicSite: H (-2.3456, 2.2845, 15.6830) [0.0712, 0.4115, 0.8711]\n",
       "PeriodicSite: H (4.9556, 0.1205, 6.2905) [0.4580, 0.0217, 0.3494]\n",
       "PeriodicSite: H (3.0481, 5.4311, 15.2923) [0.4580, 0.9783, 0.8494]\n",
       "PeriodicSite: H (11.8208, 2.8963, 6.2905) [0.9580, 0.5217, 0.3494]\n",
       "PeriodicSite: H (9.9133, 2.6553, 15.2923) [0.9580, 0.4783, 0.8494]\n",
       "PeriodicSite: C (0.3103, 0.6490, 4.9114) [0.0984, 0.1169, 0.2728]\n",
       "PeriodicSite: C (-1.5971, 4.9026, 13.9132) [0.0984, 0.8831, 0.7728]\n",
       "PeriodicSite: C (7.1755, 3.4248, 4.9114) [0.5984, 0.6169, 0.2728]\n",
       "PeriodicSite: C (5.2681, 2.1268, 13.9132) [0.5984, 0.3831, 0.7728]\n",
       "PeriodicSite: H (0.0558, 0.8755, 4.0130) [0.0660, 0.1577, 0.2229]\n",
       "PeriodicSite: H (-1.8516, 4.6761, 13.0148) [0.0660, 0.8423, 0.7229]\n",
       "PeriodicSite: H (6.9210, 3.6513, 4.0130) [0.5660, 0.6577, 0.2229]\n",
       "PeriodicSite: H (5.0136, 1.9003, 13.0148) [0.5660, 0.3423, 0.7229]\n",
       "PeriodicSite: H (-0.4360, 0.7856, 5.4983) [0.0531, 0.1415, 0.3054]\n",
       "PeriodicSite: H (-2.3435, 4.7660, 14.5001) [0.0531, 0.8585, 0.8054]\n",
       "PeriodicSite: H (6.4292, 3.5614, 5.4983) [0.5531, 0.6415, 0.3054]\n",
       "PeriodicSite: H (4.5217, 1.9902, 14.5001) [0.5531, 0.3585, 0.8054]\n",
       "PeriodicSite: H (0.5795, 5.2796, 4.9438) [0.1185, 0.9510, 0.2746]\n",
       "PeriodicSite: H (-1.3280, 0.2720, 13.9456) [0.1185, 0.0490, 0.7746]\n",
       "PeriodicSite: H (7.4447, 2.5038, 4.9438) [0.6185, 0.4510, 0.2746]\n",
       "PeriodicSite: H (5.5372, 3.0478, 13.9456) [0.6185, 0.5490, 0.7746]\n",
       "PeriodicSite: C (6.7497, 0.6545, 9.4933) [0.6381, 0.1179, 0.5273]\n",
       "PeriodicSite: C (8.6572, 4.8971, 0.4915) [0.6381, 0.8821, 0.0273]\n",
       "PeriodicSite: C (-0.1155, 3.4303, 9.4933) [0.1381, 0.6179, 0.5273]\n",
       "PeriodicSite: C (1.7920, 2.1213, 0.4915) [0.1381, 0.3821, 0.0273]\n",
       "PeriodicSite: H (7.4176, 0.6096, 8.8038) [0.6761, 0.1098, 0.4890]\n",
       "PeriodicSite: H (5.5101, 4.9420, 17.8056) [0.6761, 0.8902, 0.9890]\n",
       "PeriodicSite: H (0.5524, 3.3854, 8.8038) [0.1761, 0.6098, 0.4890]\n",
       "PeriodicSite: H (-1.3551, 2.1662, 17.8056) [0.1761, 0.3902, 0.9890]\n",
       "PeriodicSite: H (6.4288, 5.3223, 9.6860) [0.6177, 0.9587, 0.5380]\n",
       "PeriodicSite: H (8.3363, 0.2293, 0.6841) [0.6177, 0.0413, 0.0380]\n",
       "PeriodicSite: H (-0.4364, 2.5465, 9.6860) [0.1177, 0.4587, 0.5380]\n",
       "PeriodicSite: H (1.4711, 3.0051, 0.6841) [0.1177, 0.5413, 0.0380]\n",
       "PeriodicSite: H (7.1338, 1.0359, 10.2855) [0.6783, 0.1866, 0.5713]\n",
       "PeriodicSite: H (9.0413, 4.5157, 1.2837) [0.6783, 0.8134, 0.0713]\n",
       "PeriodicSite: H (0.2686, 3.8117, 10.2855) [0.1783, 0.6866, 0.5713]\n",
       "PeriodicSite: H (2.1761, 1.7399, 1.2837) [0.1783, 0.3134, 0.0713]\n",
       "PeriodicSite: C (3.0035, 3.3776, 4.5585) [0.2891, 0.6084, 0.2532]\n",
       "PeriodicSite: C (1.0960, 2.1740, 13.5603) [0.2891, 0.3916, 0.7532]\n",
       "PeriodicSite: C (9.8687, 0.6018, 4.5585) [0.7891, 0.1084, 0.2532]\n",
       "PeriodicSite: C (7.9612, 4.9498, 13.5603) [0.7891, 0.8916, 0.7532]\n",
       "PeriodicSite: C (5.6059, 1.5123, 9.0270) [0.5476, 0.2724, 0.5014]\n",
       "PeriodicSite: C (7.5134, 4.0393, 0.0252) [0.5476, 0.7276, 0.0014]\n",
       "PeriodicSite: C (-1.2593, 4.2881, 9.0270) [0.0476, 0.7724, 0.5014]\n",
       "PeriodicSite: C (0.6482, 1.2635, 0.0252) [0.0476, 0.2276, 0.0014]\n",
       "PeriodicSite: C (3.7419, 4.2969, 10.9426) [0.4414, 0.7740, 0.6078]\n",
       "PeriodicSite: C (5.6493, 1.2547, 1.9408) [0.4414, 0.2260, 0.1078]\n",
       "PeriodicSite: C (10.6071, 1.5211, 10.9426) [0.9414, 0.2740, 0.6078]\n",
       "PeriodicSite: C (12.5145, 4.0305, 1.9408) [0.9414, 0.7260, 0.1078]\n",
       "PeriodicSite: H (3.6274, 5.1846, 10.5951) [0.4277, 0.9339, 0.5885]\n",
       "PeriodicSite: H (5.5349, 0.3670, 1.5933) [0.4277, 0.0661, 0.0885]\n",
       "PeriodicSite: H (10.4926, 2.4088, 10.5951) [0.9277, 0.4339, 0.5885]\n",
       "PeriodicSite: H (12.4001, 3.1428, 1.5933) [0.9277, 0.5661, 0.0885]\n",
       "PeriodicSite: H (4.4595, 4.2919, 11.5799) [0.5035, 0.7731, 0.6432]\n",
       "PeriodicSite: H (6.3670, 1.2597, 2.5781) [0.5035, 0.2269, 0.1432]\n",
       "PeriodicSite: H (-2.4057, 1.5161, 11.5799) [0.0035, 0.2731, 0.6432]\n",
       "PeriodicSite: H (-0.4982, 4.0355, 2.5781) [0.0035, 0.7269, 0.1432]\n",
       "PeriodicSite: H (2.9312, 4.0155, 11.3729) [0.3890, 0.7233, 0.6317]\n",
       "PeriodicSite: H (4.8387, 1.5361, 2.3711) [0.3890, 0.2767, 0.1317]\n",
       "PeriodicSite: H (9.7964, 1.2397, 11.3729) [0.8890, 0.2233, 0.6317]\n",
       "PeriodicSite: H (11.7039, 4.3119, 2.3711) [0.8890, 0.7767, 0.1317]\n",
       "PeriodicSite: C (3.3754, 4.3358, 3.4513) [0.2991, 0.7810, 0.1917]\n",
       "PeriodicSite: C (1.4679, 1.2158, 12.4531) [0.2991, 0.2190, 0.6917]\n",
       "PeriodicSite: C (10.2406, 1.5600, 3.4513) [0.7991, 0.2810, 0.1917]\n",
       "PeriodicSite: C (8.3331, 3.9916, 12.4531) [0.7991, 0.7190, 0.6917]\n",
       "PeriodicSite: H (3.2305, 5.2374, 3.7466) [0.2931, 0.9434, 0.2081]\n",
       "PeriodicSite: H (1.3230, 0.3142, 12.7484) [0.2931, 0.0566, 0.7081]\n",
       "PeriodicSite: H (10.0957, 2.4616, 3.7466) [0.7931, 0.4434, 0.2081]\n",
       "PeriodicSite: H (8.1882, 3.0900, 12.7484) [0.7931, 0.5566, 0.7081]\n",
       "PeriodicSite: H (2.8320, 4.1604, 2.6789) [0.2476, 0.7494, 0.1488]\n",
       "PeriodicSite: H (0.9245, 1.3912, 11.6808) [0.2476, 0.2506, 0.6488]\n",
       "PeriodicSite: H (9.6972, 1.3846, 2.6789) [0.7476, 0.2494, 0.1488]\n",
       "PeriodicSite: H (7.7897, 4.1670, 11.6808) [0.7476, 0.7506, 0.6488]\n",
       "PeriodicSite: H (4.3009, 4.2181, 3.2245) [0.3630, 0.7598, 0.1791]\n",
       "PeriodicSite: H (2.3934, 1.3335, 12.2263) [0.3630, 0.2402, 0.6791]\n",
       "PeriodicSite: H (11.1661, 1.4423, 3.2245) [0.8630, 0.2598, 0.1791]\n",
       "PeriodicSite: H (9.2586, 4.1093, 12.2263) [0.8630, 0.7402, 0.6791]"
      ]
     },
     "execution_count": 18,
     "metadata": {},
     "output_type": "execute_result"
    }
   ],
   "source": [
    "\n",
    "# get the indexes that matches the train, valid, test split\n",
    "train_idx = cif_df[cif_df['ID'].isin(train_ids)].index.tolist()\n",
    "valid_idx = cif_df[cif_df['ID'].isin(valid_ids)].index.tolist()\n",
    "test_idx = cif_df[cif_df['ID'].isin(test_ids)].index.tolist()\n",
    "\n",
    "train_strucs = [strucs[i] for i in train_idx]\n",
    "valid_strucs = [strucs[i] for i in valid_idx]\n",
    "test_strucs = [strucs[i] for i in test_idx]\n",
    "train_strucs[0]"
   ]
  },
  {
   "cell_type": "code",
   "execution_count": 19,
   "metadata": {},
   "outputs": [],
   "source": [
    "# find the largest structure\n",
    "largest_struc = max(strucs, key=lambda x: len(x))\n",
    "num_atoms = 100\n",
    "train_targets = torch.from_numpy(train_targets).float()"
   ]
  },
  {
   "cell_type": "code",
   "execution_count": 20,
   "metadata": {},
   "outputs": [
    {
     "name": "stderr",
     "output_type": "stream",
     "text": [
      "100%|██████████| 100/100 [00:05<00:00, 16.67it/s]\n"
     ]
    }
   ],
   "source": [
    "training_set = MEGNetDataset(\n",
    "    train_strucs,\n",
    "    train_targets,\n",
    "    \"SpinCrossoverEnergy\",\n",
    "    converter=cry_graph,\n",
    "    initial=0.0,\n",
    "    final=6.0,\n",
    "    num_centers=num_atoms,\n",
    "    width=0.5,\n",
    "    #graph_labels=train_attrs,\n",
    ")\n"
   ]
  },
  {
   "cell_type": "code",
   "execution_count": 21,
   "metadata": {},
   "outputs": [],
   "source": [
    "#make a to_cuda_function that will send the graphs and attrs to cuda\n",
    "\n",
    "def to_cuda(dataset):\n",
    "    for i in range(len(dataset)):\n",
    "        dataset[i][0].to('cuda')\n",
    "        dataset[i][1].to('cuda')\n",
    "    return dataset\n",
    "\n",
    "# test\n",
    "training_set = to_cuda(training_set)\n",
    "training_set.graphs = [i.to('cuda') for i in training_set.graphs]\n",
    "#training_set.attrs = training_set.attrs.to('cuda')\n",
    "training_set.labels = training_set.labels.to('cuda')\n",
    "training_set.state_attr = training_set.state_attr.to('cuda')\n",
    "training_set[0]\n",
    "\n",
    "def dataloader_to_cuda(dataloader):\n",
    "    dataloader.graphs = [i.to('cuda') for i in dataloader.graphs]\n",
    "    dataloader.labels = dataloader.labels.to('cuda')\n",
    "    dataloader.state_attr = dataloader.state_attr.to('cuda')\n",
    "    return dataloader\n"
   ]
  },
  {
   "cell_type": "code",
   "execution_count": null,
   "metadata": {},
   "outputs": [],
   "source": []
  },
  {
   "cell_type": "code",
   "execution_count": 22,
   "metadata": {},
   "outputs": [
    {
     "name": "stderr",
     "output_type": "stream",
     "text": [
      "100%|██████████| 100/100 [00:06<00:00, 15.36it/s]\n"
     ]
    }
   ],
   "source": [
    "validation_set = MEGNetDataset(\n",
    "    valid_strucs,\n",
    "    valid_targets,\n",
    "    \"SpinCrossoverEnergy\",\n",
    "    converter=cry_graph,\n",
    "    initial=0.0,\n",
    "    final=6.0,\n",
    "    num_centers=num_atoms,\n",
    "    width=0.5,\n",
    "    #graph_labels=valid_attrs,\n",
    ")\n"
   ]
  },
  {
   "cell_type": "code",
   "execution_count": 23,
   "metadata": {},
   "outputs": [
    {
     "name": "stderr",
     "output_type": "stream",
     "text": [
      "100%|██████████| 50/50 [00:02<00:00, 23.59it/s]\n"
     ]
    }
   ],
   "source": [
    "test_set = MEGNetDataset(\n",
    "    test_strucs,\n",
    "    test_targets,\n",
    "    \"SpinCrossoverEnergy\",\n",
    "    converter=cry_graph,\n",
    "    initial=0.0,\n",
    "    final=6.0,\n",
    "    num_centers=num_atoms,\n",
    "    width=0.5,\n",
    "    #graph_labels=test_attrs,\n",
    ")"
   ]
  },
  {
   "cell_type": "code",
   "execution_count": 24,
   "metadata": {},
   "outputs": [
    {
     "data": {
      "text/plain": [
       "((Graph(num_nodes=144, num_edges=8088,\n",
       "        ndata_schemes={'attr': Scheme(shape=(27,), dtype=torch.float64), 'node_type': Scheme(shape=(), dtype=torch.int32), 'pos': Scheme(shape=(3,), dtype=torch.float64), 'volume': Scheme(shape=(), dtype=torch.float32)}\n",
       "        edata_schemes={'pbc_offset': Scheme(shape=(3,), dtype=torch.float64), 'lattice': Scheme(shape=(1, 3, 3), dtype=torch.float64), 'pbc_offshift': Scheme(shape=(3,), dtype=torch.float64), 'edge_attr': Scheme(shape=(100,), dtype=torch.float32)}),\n",
       "  tensor(-0.2776, device='cuda:0'),\n",
       "  tensor([0., 0.], device='cuda:0')),\n",
       " (Graph(num_nodes=81, num_edges=4764,\n",
       "        ndata_schemes={'attr': Scheme(shape=(27,), dtype=torch.float64), 'node_type': Scheme(shape=(), dtype=torch.int32), 'pos': Scheme(shape=(3,), dtype=torch.float64), 'volume': Scheme(shape=(), dtype=torch.float32)}\n",
       "        edata_schemes={'pbc_offset': Scheme(shape=(3,), dtype=torch.float64), 'lattice': Scheme(shape=(1, 3, 3), dtype=torch.float64), 'pbc_offshift': Scheme(shape=(3,), dtype=torch.float64), 'edge_attr': Scheme(shape=(100,), dtype=torch.float32)}),\n",
       "  tensor(-1.9306, device='cuda:0'),\n",
       "  tensor([0., 0.], device='cuda:0')),\n",
       " (Graph(num_nodes=84, num_edges=4520,\n",
       "        ndata_schemes={'attr': Scheme(shape=(27,), dtype=torch.float64), 'node_type': Scheme(shape=(), dtype=torch.int32), 'pos': Scheme(shape=(3,), dtype=torch.float64), 'volume': Scheme(shape=(), dtype=torch.float32)}\n",
       "        edata_schemes={'pbc_offset': Scheme(shape=(3,), dtype=torch.float64), 'lattice': Scheme(shape=(1, 3, 3), dtype=torch.float64), 'pbc_offshift': Scheme(shape=(3,), dtype=torch.float64), 'edge_attr': Scheme(shape=(100,), dtype=torch.float32)}),\n",
       "  tensor(0.8864, device='cuda:0'),\n",
       "  tensor([0., 0.], device='cuda:0')))"
      ]
     },
     "execution_count": 24,
     "metadata": {},
     "output_type": "execute_result"
    }
   ],
   "source": [
    "\n",
    "training_set = dataloader_to_cuda(training_set)\n",
    "test_set = dataloader_to_cuda(test_set)\n",
    "validation_set = dataloader_to_cuda(validation_set)\n",
    "training_set[0], test_set[0], validation_set[0]"
   ]
  },
  {
   "cell_type": "code",
   "execution_count": 25,
   "metadata": {},
   "outputs": [],
   "source": [
    "training_set.save('sco_megset_train')\n",
    "validation_set.save('sco_megset_valid')\n",
    "test_set.save('sco_megset_test')"
   ]
  },
  {
   "cell_type": "code",
   "execution_count": 26,
   "metadata": {},
   "outputs": [],
   "source": [
    "\n",
    "EPOCHS = 101\n",
    "# define the embedding layer for nodel and state attributes\n",
    "n_embed_dim =  16\n",
    "# state_embed_dim = 1\n",
    "node_embed = nn.Embedding(len(elem_list), n_embed_dim)\n",
    "# define the bond expansion\n",
    "bond_expansion = BondExpansion(rbf_type=\"Gaussian\", initial=0.0, final=6.0, num_centers=num_atoms, width=0.5)\n",
    "#attr_embed = nn.Embedding(1, 16)\n",
    "\n",
    "# define the achitecture of multi-fidelity MEGNet model\n",
    "model = MEGNet(\n",
    "    dim_node_embedding=n_embed_dim,\n",
    "    dim_edge_embedding=num_atoms,\n",
    "    nblocks=3,\n",
    "    hidden_layer_sizes_input=(64, 32),\n",
    "    hidden_layer_sizes_conv=(64, 64, 32),\n",
    "    nlayers_set2set=1,\n",
    "    niters_set2set=3,\n",
    "    hidden_layer_sizes_output=(32, 16),\n",
    "    is_classification=False,\n",
    "    layer_node_embedding=node_embed,\n",
    "   # layer_state_embedding=attr_embed,\n",
    "    activation_type=\"softplus2\",\n",
    "    include_state_embedding=False,\n",
    "    graph_converter=cry_graph,\n",
    "    bond_expansion=bond_expansion,\n",
    "    cutoff=5.0,\n",
    "    gauss_width=0.5,\n",
    ").to('cuda')\n",
    "\n",
    "\n",
    "\n",
    "xavier_init(model)\n",
    "# setup the optimizer and scheduler\n",
    "optimizer = torch.optim.AdamW(model.parameters(), lr=1.0e-3, weight_decay=1.0e-2, amsgrad=True)\n",
    "scheduler = CosineAnnealingLR(optimizer, T_max=EPOCHS * 10, eta_min=1.0e-4)\n",
    "generator = torch.Generator(device=\"cuda\")\n",
    "\n",
    "# define the loss functions\n",
    "train_loss_function = nn.MSELoss()\n",
    "validate_loss_function = nn.MSELoss()\n",
    "## using GraphDataLoader for batched graphs\n",
    "train_loader, val_loader = MGLDataLoader(\n",
    "    train_data=training_set,\n",
    "    val_data=validation_set,\n",
    "    collate_fn=_collate_fn,\n",
    "    batch_size=4,\n",
    "    num_workers=0,\n",
    ")"
   ]
  },
  {
   "cell_type": "code",
   "execution_count": 27,
   "metadata": {},
   "outputs": [
    {
     "data": {
      "text/plain": [
       "(Graph(num_nodes=144, num_edges=8088,\n",
       "       ndata_schemes={'attr': Scheme(shape=(27,), dtype=torch.float64), 'node_type': Scheme(shape=(), dtype=torch.int32), 'pos': Scheme(shape=(3,), dtype=torch.float64), 'volume': Scheme(shape=(), dtype=torch.float32)}\n",
       "       edata_schemes={'pbc_offset': Scheme(shape=(3,), dtype=torch.float64), 'lattice': Scheme(shape=(1, 3, 3), dtype=torch.float64), 'pbc_offshift': Scheme(shape=(3,), dtype=torch.float64), 'edge_attr': Scheme(shape=(100,), dtype=torch.float32)}),\n",
       " tensor(-0.2776, device='cuda:0'),\n",
       " tensor([0., 0.], device='cuda:0'))"
      ]
     },
     "execution_count": 27,
     "metadata": {},
     "output_type": "execute_result"
    }
   ],
   "source": [
    "model = model.to('cuda')\n",
    "training_set[0]"
   ]
  },
  {
   "cell_type": "code",
   "execution_count": 28,
   "metadata": {},
   "outputs": [
    {
     "name": "stderr",
     "output_type": "stream",
     "text": [
      "  0%|          | 0/25 [00:03<?, ?it/s]]\n",
      "  0%|          | 0/101 [00:03<?, ?it/s]\n"
     ]
    },
    {
     "ename": "RuntimeError",
     "evalue": "Expected all tensors to be on the same device, but found at least two devices, cuda:0 and cpu!",
     "output_type": "error",
     "traceback": [
      "\u001b[1;31m---------------------------------------------------------------------------\u001b[0m",
      "\u001b[1;31mRuntimeError\u001b[0m                              Traceback (most recent call last)",
      "Cell \u001b[1;32mIn[28], line 5\u001b[0m\n\u001b[0;32m      3\u001b[0m trainer \u001b[39m=\u001b[39m ModelTrainer(model\u001b[39m=\u001b[39mmodel, optimizer\u001b[39m=\u001b[39moptimizer, scheduler\u001b[39m=\u001b[39mscheduler)\n\u001b[0;32m      4\u001b[0m \u001b[39m# Train !\u001b[39;00m\n\u001b[1;32m----> 5\u001b[0m trainer\u001b[39m.\u001b[39mtrain(\n\u001b[0;32m      6\u001b[0m     nepochs\u001b[39m=\u001b[39mEPOCHS,\n\u001b[0;32m      7\u001b[0m     train_loss_func\u001b[39m=\u001b[39mtrain_loss_function\u001b[39m.\u001b[39mto(\u001b[39m'\u001b[39m\u001b[39mcuda\u001b[39m\u001b[39m'\u001b[39m),\n\u001b[0;32m      8\u001b[0m     val_loss_func\u001b[39m=\u001b[39mvalidate_loss_function\u001b[39m.\u001b[39mto(\u001b[39m'\u001b[39m\u001b[39mcuda\u001b[39m\u001b[39m'\u001b[39m),\n\u001b[0;32m      9\u001b[0m     train_loader\u001b[39m=\u001b[39mtrain_loader,\n\u001b[0;32m     10\u001b[0m     val_loader\u001b[39m=\u001b[39mval_loader,\n\u001b[0;32m     11\u001b[0m )\n",
      "File \u001b[1;32mc:\\Users\\efons\\anaconda3\\envs\\meg\\Lib\\site-packages\\matgl\\utils\\training.py:141\u001b[0m, in \u001b[0;36mModelTrainer.train\u001b[1;34m(self, nepochs, train_loss_func, val_loss_func, train_loader, val_loader, logpath)\u001b[0m\n\u001b[0;32m    139\u001b[0m csvlog\u001b[39m.\u001b[39mwriterow([\u001b[39m\"\u001b[39m\u001b[39mepoch\u001b[39m\u001b[39m\"\u001b[39m, \u001b[39m\"\u001b[39m\u001b[39mtrain_loss\u001b[39m\u001b[39m\"\u001b[39m, \u001b[39m\"\u001b[39m\u001b[39mval_loss\u001b[39m\u001b[39m\"\u001b[39m, \u001b[39m\"\u001b[39m\u001b[39mtrain_time\u001b[39m\u001b[39m\"\u001b[39m, \u001b[39m\"\u001b[39m\u001b[39mval_time\u001b[39m\u001b[39m\"\u001b[39m])\n\u001b[0;32m    140\u001b[0m \u001b[39mfor\u001b[39;00m epoch \u001b[39min\u001b[39;00m tqdm(\u001b[39mrange\u001b[39m(nepochs)):\n\u001b[1;32m--> 141\u001b[0m     train_loss, train_time \u001b[39m=\u001b[39m \u001b[39mself\u001b[39m\u001b[39m.\u001b[39mtrain_one_step(\n\u001b[0;32m    142\u001b[0m         train_loss_func,\n\u001b[0;32m    143\u001b[0m         train_loader,\n\u001b[0;32m    144\u001b[0m     )\n\u001b[0;32m    145\u001b[0m     val_loss, val_time \u001b[39m=\u001b[39m \u001b[39mself\u001b[39m\u001b[39m.\u001b[39mvalidate_one_step(val_loss_func, val_loader)\n\u001b[0;32m    147\u001b[0m     \u001b[39mself\u001b[39m\u001b[39m.\u001b[39mscheduler\u001b[39m.\u001b[39mstep()\n",
      "File \u001b[1;32mc:\\Users\\efons\\anaconda3\\envs\\meg\\Lib\\site-packages\\matgl\\utils\\training.py:67\u001b[0m, in \u001b[0;36mModelTrainer.train_one_step\u001b[1;34m(self, train_loss_func, dataloader)\u001b[0m\n\u001b[0;32m     65\u001b[0m pred \u001b[39m=\u001b[39m model(g, edge_feat\u001b[39m.\u001b[39mfloat(), node_feat\u001b[39m.\u001b[39mlong(), attrs)\n\u001b[0;32m     66\u001b[0m pred \u001b[39m=\u001b[39m torch\u001b[39m.\u001b[39msqueeze(pred)\n\u001b[1;32m---> 67\u001b[0m loss \u001b[39m=\u001b[39m train_loss_func(pred, labels)\n\u001b[0;32m     68\u001b[0m loss\u001b[39m.\u001b[39mbackward()\n\u001b[0;32m     69\u001b[0m optimizer\u001b[39m.\u001b[39mstep()\n",
      "File \u001b[1;32mc:\\Users\\efons\\anaconda3\\envs\\meg\\Lib\\site-packages\\torch\\nn\\modules\\module.py:1501\u001b[0m, in \u001b[0;36mModule._call_impl\u001b[1;34m(self, *args, **kwargs)\u001b[0m\n\u001b[0;32m   1496\u001b[0m \u001b[39m# If we don't have any hooks, we want to skip the rest of the logic in\u001b[39;00m\n\u001b[0;32m   1497\u001b[0m \u001b[39m# this function, and just call forward.\u001b[39;00m\n\u001b[0;32m   1498\u001b[0m \u001b[39mif\u001b[39;00m \u001b[39mnot\u001b[39;00m (\u001b[39mself\u001b[39m\u001b[39m.\u001b[39m_backward_hooks \u001b[39mor\u001b[39;00m \u001b[39mself\u001b[39m\u001b[39m.\u001b[39m_backward_pre_hooks \u001b[39mor\u001b[39;00m \u001b[39mself\u001b[39m\u001b[39m.\u001b[39m_forward_hooks \u001b[39mor\u001b[39;00m \u001b[39mself\u001b[39m\u001b[39m.\u001b[39m_forward_pre_hooks\n\u001b[0;32m   1499\u001b[0m         \u001b[39mor\u001b[39;00m _global_backward_pre_hooks \u001b[39mor\u001b[39;00m _global_backward_hooks\n\u001b[0;32m   1500\u001b[0m         \u001b[39mor\u001b[39;00m _global_forward_hooks \u001b[39mor\u001b[39;00m _global_forward_pre_hooks):\n\u001b[1;32m-> 1501\u001b[0m     \u001b[39mreturn\u001b[39;00m forward_call(\u001b[39m*\u001b[39margs, \u001b[39m*\u001b[39m\u001b[39m*\u001b[39mkwargs)\n\u001b[0;32m   1502\u001b[0m \u001b[39m# Do not call functions when jit is used\u001b[39;00m\n\u001b[0;32m   1503\u001b[0m full_backward_hooks, non_full_backward_hooks \u001b[39m=\u001b[39m [], []\n",
      "File \u001b[1;32mc:\\Users\\efons\\anaconda3\\envs\\meg\\Lib\\site-packages\\torch\\nn\\modules\\loss.py:536\u001b[0m, in \u001b[0;36mMSELoss.forward\u001b[1;34m(self, input, target)\u001b[0m\n\u001b[0;32m    535\u001b[0m \u001b[39mdef\u001b[39;00m \u001b[39mforward\u001b[39m(\u001b[39mself\u001b[39m, \u001b[39minput\u001b[39m: Tensor, target: Tensor) \u001b[39m-\u001b[39m\u001b[39m>\u001b[39m Tensor:\n\u001b[1;32m--> 536\u001b[0m     \u001b[39mreturn\u001b[39;00m F\u001b[39m.\u001b[39mmse_loss(\u001b[39minput\u001b[39m, target, reduction\u001b[39m=\u001b[39m\u001b[39mself\u001b[39m\u001b[39m.\u001b[39mreduction)\n",
      "File \u001b[1;32mc:\\Users\\efons\\anaconda3\\envs\\meg\\Lib\\site-packages\\torch\\nn\\functional.py:3295\u001b[0m, in \u001b[0;36mmse_loss\u001b[1;34m(input, target, size_average, reduce, reduction)\u001b[0m\n\u001b[0;32m   3292\u001b[0m     reduction \u001b[39m=\u001b[39m _Reduction\u001b[39m.\u001b[39mlegacy_get_string(size_average, reduce)\n\u001b[0;32m   3294\u001b[0m expanded_input, expanded_target \u001b[39m=\u001b[39m torch\u001b[39m.\u001b[39mbroadcast_tensors(\u001b[39minput\u001b[39m, target)\n\u001b[1;32m-> 3295\u001b[0m \u001b[39mreturn\u001b[39;00m torch\u001b[39m.\u001b[39m_C\u001b[39m.\u001b[39m_nn\u001b[39m.\u001b[39mmse_loss(expanded_input, expanded_target, _Reduction\u001b[39m.\u001b[39mget_enum(reduction))\n",
      "\u001b[1;31mRuntimeError\u001b[0m: Expected all tensors to be on the same device, but found at least two devices, cuda:0 and cpu!"
     ]
    }
   ],
   "source": [
    "# setup the MEGNetTrainer\n",
    "from matgl.utils.training import ModelTrainer\n",
    "trainer = ModelTrainer(model=model, optimizer=optimizer, scheduler=scheduler)\n",
    "# Train !\n",
    "trainer.train(\n",
    "    nepochs=EPOCHS,\n",
    "    train_loss_func=train_loss_function.to('cuda'),\n",
    "    val_loss_func=validate_loss_function.to('cuda'),\n",
    "    train_loader=train_loader,\n",
    "    val_loader=val_loader,\n",
    ")"
   ]
  },
  {
   "cell_type": "code",
   "execution_count": 73,
   "metadata": {},
   "outputs": [
    {
     "ename": "TypeError",
     "evalue": "'GraphDataLoader' object is not subscriptable",
     "output_type": "error",
     "traceback": [
      "\u001b[1;31m---------------------------------------------------------------------------\u001b[0m",
      "\u001b[1;31mTypeError\u001b[0m                                 Traceback (most recent call last)",
      "Cell \u001b[1;32mIn[73], line 1\u001b[0m\n\u001b[1;32m----> 1\u001b[0m train_loader[\u001b[39m0\u001b[39m]\n",
      "\u001b[1;31mTypeError\u001b[0m: 'GraphDataLoader' object is not subscriptable"
     ]
    }
   ],
   "source": []
  },
  {
   "cell_type": "code",
   "execution_count": null,
   "metadata": {},
   "outputs": [
    {
     "data": {
      "text/plain": [
       "<Axes: xlabel='epoch'>"
      ]
     },
     "execution_count": 80,
     "metadata": {},
     "output_type": "execute_result"
    },
    {
     "data": {
      "image/png": "[encoded data removed]",
      "text/plain": [
       "<Figure size 1000x500 with 1 Axes>"
      ]
     },
     "metadata": {},
     "output_type": "display_data"
    }
   ],
   "source": [
    "results = pd.read_csv('matgl_training/training_log.csv')\n",
    "results.plot(x='epoch', y=['train_loss', 'val_loss'], figsize=(10, 5))"
   ]
  },
  {
   "cell_type": "code",
   "execution_count": null,
   "metadata": {},
   "outputs": [
    {
     "name": "stderr",
     "output_type": "stream",
     "text": [
      "c:\\Users\\efons\\anaconda3\\envs\\meg\\Lib\\site-packages\\dgl\\readout.py:443: DGLWarning: For a single graph, use a tensor of shape (1, *) for graph_feat. The support of shape (*) will be deprecated.\n",
      "  dgl_warning(\n"
     ]
    },
    {
     "name": "stdout",
     "output_type": "stream",
     "text": [
      "-0.3207198088786112\n"
     ]
    },
    {
     "data": {
      "image/png": "[encoded data removed]",
      "text/plain": [
       "<Figure size 640x480 with 1 Axes>"
      ]
     },
     "metadata": {},
     "output_type": "display_data"
    }
   ],
   "source": [
    "import matplotlib.pyplot as plt\n",
    "from sklearn.metrics import r2_score\n",
    "model.predict_structure(test_strucs[10], graph_converter=cry_graph)\n",
    "# predict all the test structures\n",
    "pred = torch.tensor([])\n",
    "plot_x = torch.tensor([])\n",
    "for i in range(len(test_strucs)):\n",
    "    pred = torch.cat((pred, model.predict_structure(test_strucs[i], graph_converter=cry_graph)))\n",
    "    plot_x = torch.cat((plot_x, torch.from_numpy(np.array(test_targets[i])).reshape(1, -1)))\n",
    "plt.scatter(plot_x, pred.detach().numpy())\n",
    "print(r2_score(plot_x, pred.detach().numpy()))\n",
    "# # plot the train predictions\n",
    "# pred = torch.tensor([])\n",
    "# plot_x = torch.tensor([])\n",
    "# for i in range(len(train_strucs)):\n",
    "#     pred = torch.cat((pred, model.predict_structure(train_strucs[i], graph_converter=cry_graph)))\n",
    "#     plot_x = torch.cat((plot_x, torch.from_numpy(np.array(train_targets[i])).reshape(1, -1)))\n",
    "# plt.scatter(plot_x, pred.detach().numpy())"
   ]
  },
  {
   "cell_type": "code",
   "execution_count": null,
   "metadata": {},
   "outputs": [
    {
     "name": "stdout",
     "output_type": "stream",
     "text": [
      "(Graph(num_nodes=81, num_edges=4764,\n",
      "      ndata_schemes={'attr': Scheme(shape=(27,), dtype=torch.float64), 'node_type': Scheme(shape=(), dtype=torch.int32), 'pos': Scheme(shape=(3,), dtype=torch.float64), 'volume': Scheme(shape=(), dtype=torch.float32)}\n",
      "      edata_schemes={'pbc_offset': Scheme(shape=(3,), dtype=torch.float64), 'lattice': Scheme(shape=(1, 3, 3), dtype=torch.float64), 'pbc_offshift': Scheme(shape=(3,), dtype=torch.float64), 'edge_attr': Scheme(shape=(100,), dtype=torch.float32)}), tensor([14,  3,  3,  3,  3,  2,  2,  0,  0,  0,  0,  0,  0,  2,  2,  2,  2,  0,\n",
      "         0,  2,  2,  2,  2,  0,  0,  0,  0,  0,  0,  2,  2,  0,  0,  0,  0,  2,\n",
      "         2,  0,  0,  2,  2,  0,  0,  0,  0,  0,  0,  2,  2,  0,  0,  0,  0,  0,\n",
      "         0,  2,  2,  0,  0,  0,  0,  2,  2,  0,  0,  2,  2,  0,  0,  0,  0,  0,\n",
      "         0,  2,  2,  0,  0,  0,  0,  0,  0], dtype=torch.int32), tensor([[3.5330e-04, 4.4904e-04, 5.6864e-04,  ..., 1.6706e-01, 1.4869e-01,\n",
      "         1.3186e-01],\n",
      "        [5.1222e-05, 6.6936e-05, 8.7149e-05,  ..., 3.5780e-01, 3.2743e-01,\n",
      "         2.9853e-01],\n",
      "        [4.1238e-03, 5.0318e-03, 6.1173e-03,  ..., 3.7279e-02, 3.1854e-02,\n",
      "         2.7118e-02],\n",
      "        ...,\n",
      "        [2.9661e-03, 3.6408e-03, 4.4525e-03,  ..., 4.7702e-02, 4.1002e-02,\n",
      "         3.5114e-02],\n",
      "        [2.0408e-03, 2.5214e-03, 3.1038e-03,  ..., 6.1886e-02, 5.3543e-02,\n",
      "         4.6155e-02],\n",
      "        [4.4794e-05, 5.8643e-05, 7.6491e-05,  ..., 3.7340e-01, 3.4231e-01,\n",
      "         3.1267e-01]]), tensor([0., 0.]))\n"
     ]
    },
    {
     "ename": "DGLError",
     "evalue": "Invalid key \"node_type\". Must be one of the edge types.",
     "output_type": "error",
     "traceback": [
      "\u001b[1;31m---------------------------------------------------------------------------\u001b[0m",
      "\u001b[1;31mDGLError\u001b[0m                                  Traceback (most recent call last)",
      "Cell \u001b[1;32mIn[71], line 9\u001b[0m\n\u001b[0;32m      7\u001b[0m test_input \u001b[39m=\u001b[39m get_inputs(test_set[\u001b[39m0\u001b[39m])\n\u001b[0;32m      8\u001b[0m \u001b[39mprint\u001b[39m(test_input)\n\u001b[1;32m----> 9\u001b[0m pred \u001b[39m=\u001b[39m model(test_input[\u001b[39m0\u001b[39m], test_input[\u001b[39m0\u001b[39m][\u001b[39m'\u001b[39m\u001b[39mnode_type\u001b[39m\u001b[39m'\u001b[39m], test_input[\u001b[39m0\u001b[39m][\u001b[39m'\u001b[39m\u001b[39medge_attr\u001b[39m\u001b[39m'\u001b[39m], test_input[\u001b[39m3\u001b[39m])\n\u001b[0;32m     10\u001b[0m pred\n",
      "File \u001b[1;32mc:\\Users\\efons\\anaconda3\\envs\\meg\\Lib\\site-packages\\dgl\\heterograph.py:2409\u001b[0m, in \u001b[0;36mDGLGraph.__getitem__\u001b[1;34m(self, key)\u001b[0m\n\u001b[0;32m   2406\u001b[0m etypes \u001b[39m=\u001b[39m \u001b[39mself\u001b[39m\u001b[39m.\u001b[39m_find_etypes(key)\n\u001b[0;32m   2408\u001b[0m \u001b[39mif\u001b[39;00m \u001b[39mlen\u001b[39m(etypes) \u001b[39m==\u001b[39m \u001b[39m0\u001b[39m:\n\u001b[1;32m-> 2409\u001b[0m     \u001b[39mraise\u001b[39;00m DGLError(\n\u001b[0;32m   2410\u001b[0m         \u001b[39m'\u001b[39m\u001b[39mInvalid key \u001b[39m\u001b[39m\"\u001b[39m\u001b[39m{}\u001b[39;00m\u001b[39m\"\u001b[39m\u001b[39m. Must be one of the edge types.\u001b[39m\u001b[39m'\u001b[39m\u001b[39m.\u001b[39mformat(\n\u001b[0;32m   2411\u001b[0m             orig_key\n\u001b[0;32m   2412\u001b[0m         )\n\u001b[0;32m   2413\u001b[0m     )\n\u001b[0;32m   2415\u001b[0m \u001b[39mif\u001b[39;00m \u001b[39mlen\u001b[39m(etypes) \u001b[39m==\u001b[39m \u001b[39m1\u001b[39m:\n\u001b[0;32m   2416\u001b[0m     \u001b[39m# no ambiguity: return the unitgraph itself\u001b[39;00m\n\u001b[0;32m   2417\u001b[0m     srctype, etype, dsttype \u001b[39m=\u001b[39m \u001b[39mself\u001b[39m\u001b[39m.\u001b[39m_canonical_etypes[etypes[\u001b[39m0\u001b[39m]]\n",
      "\u001b[1;31mDGLError\u001b[0m: Invalid key \"node_type\". Must be one of the edge types."
     ]
    }
   ],
   "source": [
    "def get_inputs(data):\n",
    "    g = data[0]\n",
    "    node_feat = g.ndata['node_type']\n",
    "    edge_feat = g.edata['edge_attr']\n",
    "    attrs = data[2]\n",
    "    return g, node_feat, edge_feat, attrs\n",
    "test_input = get_inputs(test_set[0])\n",
    "print(test_input)\n",
    "pred = model(test_input[0], test_input[0]['node_type'], test_input[0]['edge_attr'], test_input[3])\n",
    "pred"
   ]
  },
  {
   "cell_type": "code",
   "execution_count": null,
   "metadata": {},
   "outputs": [
    {
     "name": "stdout",
     "output_type": "stream",
     "text": [
      "\u001b[0;31mSignature:\u001b[0m\n",
      "\u001b[0mmodel\u001b[0m\u001b[0;34m.\u001b[0m\u001b[0mforward\u001b[0m\u001b[0;34m(\u001b[0m\u001b[0;34m\u001b[0m\n",
      "\u001b[0;34m\u001b[0m    \u001b[0mgraph\u001b[0m\u001b[0;34m:\u001b[0m \u001b[0;34m'dgl.DGLGraph'\u001b[0m\u001b[0;34m,\u001b[0m\u001b[0;34m\u001b[0m\n",
      "\u001b[0;34m\u001b[0m    \u001b[0medge_feat\u001b[0m\u001b[0;34m:\u001b[0m \u001b[0;34m'torch.Tensor'\u001b[0m\u001b[0;34m,\u001b[0m\u001b[0;34m\u001b[0m\n",
      "\u001b[0;34m\u001b[0m    \u001b[0mnode_feat\u001b[0m\u001b[0;34m:\u001b[0m \u001b[0;34m'torch.Tensor'\u001b[0m\u001b[0;34m,\u001b[0m\u001b[0;34m\u001b[0m\n",
      "\u001b[0;34m\u001b[0m    \u001b[0mstate_feat\u001b[0m\u001b[0;34m:\u001b[0m \u001b[0;34m'torch.Tensor'\u001b[0m\u001b[0;34m,\u001b[0m\u001b[0;34m\u001b[0m\n",
      "\u001b[0;34m\u001b[0m\u001b[0;34m)\u001b[0m\u001b[0;34m\u001b[0m\u001b[0;34m\u001b[0m\u001b[0m\n",
      "\u001b[0;31mSource:\u001b[0m   \n",
      "    \u001b[0;32mdef\u001b[0m \u001b[0mforward\u001b[0m\u001b[0;34m(\u001b[0m\u001b[0;34m\u001b[0m\n",
      "\u001b[0;34m\u001b[0m        \u001b[0mself\u001b[0m\u001b[0;34m,\u001b[0m\u001b[0;34m\u001b[0m\n",
      "\u001b[0;34m\u001b[0m        \u001b[0mgraph\u001b[0m\u001b[0;34m:\u001b[0m \u001b[0mdgl\u001b[0m\u001b[0;34m.\u001b[0m\u001b[0mDGLGraph\u001b[0m\u001b[0;34m,\u001b[0m\u001b[0;34m\u001b[0m\n",
      "\u001b[0;34m\u001b[0m        \u001b[0medge_feat\u001b[0m\u001b[0;34m:\u001b[0m \u001b[0mtorch\u001b[0m\u001b[0;34m.\u001b[0m\u001b[0mTensor\u001b[0m\u001b[0;34m,\u001b[0m\u001b[0;34m\u001b[0m\n",
      "\u001b[0;34m\u001b[0m        \u001b[0mnode_feat\u001b[0m\u001b[0;34m:\u001b[0m \u001b[0mtorch\u001b[0m\u001b[0;34m.\u001b[0m\u001b[0mTensor\u001b[0m\u001b[0;34m,\u001b[0m\u001b[0;34m\u001b[0m\n",
      "\u001b[0;34m\u001b[0m        \u001b[0mstate_feat\u001b[0m\u001b[0;34m:\u001b[0m \u001b[0mtorch\u001b[0m\u001b[0;34m.\u001b[0m\u001b[0mTensor\u001b[0m\u001b[0;34m,\u001b[0m\u001b[0;34m\u001b[0m\n",
      "\u001b[0;34m\u001b[0m    \u001b[0;34m)\u001b[0m\u001b[0;34m:\u001b[0m\u001b[0;34m\u001b[0m\n",
      "\u001b[0;34m\u001b[0m        \u001b[0;34m\"\"\"\u001b[0m\n",
      "\u001b[0;34m        Forward pass of MEGnet. Executes all blocks.\u001b[0m\n",
      "\u001b[0;34m\u001b[0m\n",
      "\u001b[0;34m        :param graph: Input graph\u001b[0m\n",
      "\u001b[0;34m        :param edge_feat: Edge features\u001b[0m\n",
      "\u001b[0;34m        :param node_feat: Node features\u001b[0m\n",
      "\u001b[0;34m        :param state_feat: State features.\u001b[0m\n",
      "\u001b[0;34m        :return: Prediction\u001b[0m\n",
      "\u001b[0;34m        \"\"\"\u001b[0m\u001b[0;34m\u001b[0m\n",
      "\u001b[0;34m\u001b[0m        \u001b[0mgraph_transformations\u001b[0m \u001b[0;34m=\u001b[0m \u001b[0mself\u001b[0m\u001b[0;34m.\u001b[0m\u001b[0mgraph_transformations\u001b[0m\u001b[0;34m\u001b[0m\n",
      "\u001b[0;34m\u001b[0m        \u001b[0medge_feat\u001b[0m \u001b[0;34m=\u001b[0m \u001b[0mself\u001b[0m\u001b[0;34m.\u001b[0m\u001b[0medge_encoder\u001b[0m\u001b[0;34m(\u001b[0m\u001b[0mself\u001b[0m\u001b[0;34m.\u001b[0m\u001b[0mlayer_edge_embedding\u001b[0m\u001b[0;34m(\u001b[0m\u001b[0medge_feat\u001b[0m\u001b[0;34m)\u001b[0m\u001b[0;34m)\u001b[0m\u001b[0;34m\u001b[0m\n",
      "\u001b[0;34m\u001b[0m        \u001b[0mnode_feat\u001b[0m \u001b[0;34m=\u001b[0m \u001b[0mself\u001b[0m\u001b[0;34m.\u001b[0m\u001b[0mnode_encoder\u001b[0m\u001b[0;34m(\u001b[0m\u001b[0mself\u001b[0m\u001b[0;34m.\u001b[0m\u001b[0mlayer_node_embedding\u001b[0m\u001b[0;34m(\u001b[0m\u001b[0mnode_feat\u001b[0m\u001b[0;34m)\u001b[0m\u001b[0;34m)\u001b[0m\u001b[0;34m\u001b[0m\n",
      "\u001b[0;34m\u001b[0m        \u001b[0;32mif\u001b[0m \u001b[0mself\u001b[0m\u001b[0;34m.\u001b[0m\u001b[0minclude_state_embedding\u001b[0m\u001b[0;34m:\u001b[0m\u001b[0;34m\u001b[0m\n",
      "\u001b[0;34m\u001b[0m            \u001b[0mstate_feat\u001b[0m \u001b[0;34m=\u001b[0m \u001b[0mself\u001b[0m\u001b[0;34m.\u001b[0m\u001b[0mstate_encoder\u001b[0m\u001b[0;34m(\u001b[0m\u001b[0mself\u001b[0m\u001b[0;34m.\u001b[0m\u001b[0mlayer_state_embedding\u001b[0m\u001b[0;34m(\u001b[0m\u001b[0mstate_feat\u001b[0m\u001b[0;34m)\u001b[0m\u001b[0;34m)\u001b[0m\u001b[0;34m\u001b[0m\n",
      "\u001b[0;34m\u001b[0m        \u001b[0;32melse\u001b[0m\u001b[0;34m:\u001b[0m\u001b[0;34m\u001b[0m\n",
      "\u001b[0;34m\u001b[0m            \u001b[0mstate_feat\u001b[0m \u001b[0;34m=\u001b[0m \u001b[0mself\u001b[0m\u001b[0;34m.\u001b[0m\u001b[0mstate_encoder\u001b[0m\u001b[0;34m(\u001b[0m\u001b[0mstate_feat\u001b[0m\u001b[0;34m)\u001b[0m\u001b[0;34m\u001b[0m\n",
      "\u001b[0;34m\u001b[0m\u001b[0;34m\u001b[0m\n",
      "\u001b[0;34m\u001b[0m        \u001b[0;32mfor\u001b[0m \u001b[0mgt\u001b[0m\u001b[0;34m,\u001b[0m \u001b[0mblock\u001b[0m \u001b[0;32min\u001b[0m \u001b[0mzip\u001b[0m\u001b[0;34m(\u001b[0m\u001b[0mgraph_transformations\u001b[0m\u001b[0;34m,\u001b[0m \u001b[0mself\u001b[0m\u001b[0;34m.\u001b[0m\u001b[0mblocks\u001b[0m\u001b[0;34m)\u001b[0m\u001b[0;34m:\u001b[0m\u001b[0;34m\u001b[0m\n",
      "\u001b[0;34m\u001b[0m            \u001b[0moutput\u001b[0m \u001b[0;34m=\u001b[0m \u001b[0mblock\u001b[0m\u001b[0;34m(\u001b[0m\u001b[0mgt\u001b[0m\u001b[0;34m(\u001b[0m\u001b[0mgraph\u001b[0m\u001b[0;34m)\u001b[0m\u001b[0;34m,\u001b[0m \u001b[0medge_feat\u001b[0m\u001b[0;34m,\u001b[0m \u001b[0mnode_feat\u001b[0m\u001b[0;34m,\u001b[0m \u001b[0mstate_feat\u001b[0m\u001b[0;34m)\u001b[0m\u001b[0;34m\u001b[0m\n",
      "\u001b[0;34m\u001b[0m            \u001b[0medge_feat\u001b[0m\u001b[0;34m,\u001b[0m \u001b[0mnode_feat\u001b[0m\u001b[0;34m,\u001b[0m \u001b[0mstate_feat\u001b[0m \u001b[0;34m=\u001b[0m \u001b[0moutput\u001b[0m\u001b[0;34m\u001b[0m\n",
      "\u001b[0;34m\u001b[0m\u001b[0;34m\u001b[0m\n",
      "\u001b[0;34m\u001b[0m        \u001b[0mnode_vec\u001b[0m \u001b[0;34m=\u001b[0m \u001b[0mself\u001b[0m\u001b[0;34m.\u001b[0m\u001b[0mnode_s2s\u001b[0m\u001b[0;34m(\u001b[0m\u001b[0mgraph\u001b[0m\u001b[0;34m,\u001b[0m \u001b[0mnode_feat\u001b[0m\u001b[0;34m)\u001b[0m\u001b[0;34m\u001b[0m\n",
      "\u001b[0;34m\u001b[0m        \u001b[0medge_vec\u001b[0m \u001b[0;34m=\u001b[0m \u001b[0mself\u001b[0m\u001b[0;34m.\u001b[0m\u001b[0medge_s2s\u001b[0m\u001b[0;34m(\u001b[0m\u001b[0mgraph\u001b[0m\u001b[0;34m,\u001b[0m \u001b[0medge_feat\u001b[0m\u001b[0;34m)\u001b[0m\u001b[0;34m\u001b[0m\n",
      "\u001b[0;34m\u001b[0m\u001b[0;34m\u001b[0m\n",
      "\u001b[0;34m\u001b[0m        \u001b[0mnode_vec\u001b[0m \u001b[0;34m=\u001b[0m \u001b[0mtorch\u001b[0m\u001b[0;34m.\u001b[0m\u001b[0msqueeze\u001b[0m\u001b[0;34m(\u001b[0m\u001b[0mnode_vec\u001b[0m\u001b[0;34m)\u001b[0m\u001b[0;34m\u001b[0m\n",
      "\u001b[0;34m\u001b[0m        \u001b[0medge_vec\u001b[0m \u001b[0;34m=\u001b[0m \u001b[0mtorch\u001b[0m\u001b[0;34m.\u001b[0m\u001b[0msqueeze\u001b[0m\u001b[0;34m(\u001b[0m\u001b[0medge_vec\u001b[0m\u001b[0;34m)\u001b[0m\u001b[0;34m\u001b[0m\n",
      "\u001b[0;34m\u001b[0m        \u001b[0mstate_feat\u001b[0m \u001b[0;34m=\u001b[0m \u001b[0mtorch\u001b[0m\u001b[0;34m.\u001b[0m\u001b[0msqueeze\u001b[0m\u001b[0;34m(\u001b[0m\u001b[0mstate_feat\u001b[0m\u001b[0;34m)\u001b[0m\u001b[0;34m\u001b[0m\n",
      "\u001b[0;34m\u001b[0m\u001b[0;34m\u001b[0m\n",
      "\u001b[0;34m\u001b[0m        \u001b[0mvec\u001b[0m \u001b[0;34m=\u001b[0m \u001b[0mtorch\u001b[0m\u001b[0;34m.\u001b[0m\u001b[0mhstack\u001b[0m\u001b[0;34m(\u001b[0m\u001b[0;34m[\u001b[0m\u001b[0mnode_vec\u001b[0m\u001b[0;34m,\u001b[0m \u001b[0medge_vec\u001b[0m\u001b[0;34m,\u001b[0m \u001b[0mstate_feat\u001b[0m\u001b[0;34m]\u001b[0m\u001b[0;34m)\u001b[0m\u001b[0;34m\u001b[0m\n",
      "\u001b[0;34m\u001b[0m\u001b[0;34m\u001b[0m\n",
      "\u001b[0;34m\u001b[0m        \u001b[0;32mif\u001b[0m \u001b[0mself\u001b[0m\u001b[0;34m.\u001b[0m\u001b[0mdropout\u001b[0m\u001b[0;34m:\u001b[0m\u001b[0;34m\u001b[0m\n",
      "\u001b[0;34m\u001b[0m            \u001b[0mvec\u001b[0m \u001b[0;34m=\u001b[0m \u001b[0mself\u001b[0m\u001b[0;34m.\u001b[0m\u001b[0mdropout\u001b[0m\u001b[0;34m(\u001b[0m\u001b[0mvec\u001b[0m\u001b[0;34m)\u001b[0m  \u001b[0;31m# pylint: disable=E1102\u001b[0m\u001b[0;34m\u001b[0m\n",
      "\u001b[0;34m\u001b[0m\u001b[0;34m\u001b[0m\n",
      "\u001b[0;34m\u001b[0m        \u001b[0moutput\u001b[0m \u001b[0;34m=\u001b[0m \u001b[0mself\u001b[0m\u001b[0;34m.\u001b[0m\u001b[0moutput_proj\u001b[0m\u001b[0;34m(\u001b[0m\u001b[0mvec\u001b[0m\u001b[0;34m)\u001b[0m\u001b[0;34m\u001b[0m\n",
      "\u001b[0;34m\u001b[0m        \u001b[0;32mif\u001b[0m \u001b[0mself\u001b[0m\u001b[0;34m.\u001b[0m\u001b[0mis_classification\u001b[0m\u001b[0;34m:\u001b[0m\u001b[0;34m\u001b[0m\n",
      "\u001b[0;34m\u001b[0m            \u001b[0moutput\u001b[0m \u001b[0;34m=\u001b[0m \u001b[0mtorch\u001b[0m\u001b[0;34m.\u001b[0m\u001b[0msigmoid\u001b[0m\u001b[0;34m(\u001b[0m\u001b[0moutput\u001b[0m\u001b[0;34m)\u001b[0m\u001b[0;34m\u001b[0m\n",
      "\u001b[0;34m\u001b[0m\u001b[0;34m\u001b[0m\n",
      "\u001b[0;34m\u001b[0m        \u001b[0;32mreturn\u001b[0m \u001b[0moutput\u001b[0m\u001b[0;34m\u001b[0m\u001b[0;34m\u001b[0m\u001b[0m\n",
      "\u001b[0;31mFile:\u001b[0m      /blue/hennig/ericfonseca/conda/meg/lib/python3.11/site-packages/matgl/models/_megnet.py\n",
      "\u001b[0;31mType:\u001b[0m      method"
     ]
    }
   ],
   "source": [
    "model.forward??"
   ]
  },
  {
   "cell_type": "code",
   "execution_count": null,
   "metadata": {},
   "outputs": [],
   "source": []
  },
  {
   "cell_type": "code",
   "execution_count": null,
   "metadata": {},
   "outputs": [
    {
     "ename": "IndexError",
     "evalue": "index out of range in self",
     "output_type": "error",
     "traceback": [
      "\u001b[0;31m---------------------------------------------------------------------------\u001b[0m",
      "\u001b[0;31mIndexError\u001b[0m                                Traceback (most recent call last)",
      "Cell \u001b[0;32mIn[71], line 2\u001b[0m\n\u001b[1;32m      1\u001b[0m gtest \u001b[39m=\u001b[39m torch\u001b[39m.\u001b[39mtensor([\u001b[39m0\u001b[39m])\n\u001b[0;32m----> 2\u001b[0m bandgap \u001b[39m=\u001b[39m model\u001b[39m.\u001b[39mpredict_structure(strucs[\u001b[39m10\u001b[39m], gtest)\n",
      "File \u001b[0;32m/blue/hennig/ericfonseca/conda/meg/lib/python3.11/site-packages/matgl/models/_megnet.py:224\u001b[0m, in \u001b[0;36mMEGNet.predict_structure\u001b[0;34m(self, structure, state_feats, graph_converter)\u001b[0m\n\u001b[1;32m    221\u001b[0m bond_vec, bond_dist \u001b[39m=\u001b[39m compute_pair_vector_and_distance(g)\n\u001b[1;32m    222\u001b[0m g\u001b[39m.\u001b[39medata[\u001b[39m\"\u001b[39m\u001b[39medge_attr\u001b[39m\u001b[39m\"\u001b[39m] \u001b[39m=\u001b[39m \u001b[39mself\u001b[39m\u001b[39m.\u001b[39mbond_expansion(bond_dist)\n\u001b[0;32m--> 224\u001b[0m \u001b[39mreturn\u001b[39;00m \u001b[39mself\u001b[39m(g, g\u001b[39m.\u001b[39medata[\u001b[39m\"\u001b[39m\u001b[39medge_attr\u001b[39m\u001b[39m\"\u001b[39m], g\u001b[39m.\u001b[39mndata[\u001b[39m\"\u001b[39m\u001b[39mnode_type\u001b[39m\u001b[39m\"\u001b[39m], state_feats)\u001b[39m.\u001b[39mdetach()\n",
      "File \u001b[0;32m/blue/hennig/ericfonseca/conda/meg/lib/python3.11/site-packages/torch/nn/modules/module.py:1501\u001b[0m, in \u001b[0;36mModule._call_impl\u001b[0;34m(self, *args, **kwargs)\u001b[0m\n\u001b[1;32m   1496\u001b[0m \u001b[39m# If we don't have any hooks, we want to skip the rest of the logic in\u001b[39;00m\n\u001b[1;32m   1497\u001b[0m \u001b[39m# this function, and just call forward.\u001b[39;00m\n\u001b[1;32m   1498\u001b[0m \u001b[39mif\u001b[39;00m \u001b[39mnot\u001b[39;00m (\u001b[39mself\u001b[39m\u001b[39m.\u001b[39m_backward_hooks \u001b[39mor\u001b[39;00m \u001b[39mself\u001b[39m\u001b[39m.\u001b[39m_backward_pre_hooks \u001b[39mor\u001b[39;00m \u001b[39mself\u001b[39m\u001b[39m.\u001b[39m_forward_hooks \u001b[39mor\u001b[39;00m \u001b[39mself\u001b[39m\u001b[39m.\u001b[39m_forward_pre_hooks\n\u001b[1;32m   1499\u001b[0m         \u001b[39mor\u001b[39;00m _global_backward_pre_hooks \u001b[39mor\u001b[39;00m _global_backward_hooks\n\u001b[1;32m   1500\u001b[0m         \u001b[39mor\u001b[39;00m _global_forward_hooks \u001b[39mor\u001b[39;00m _global_forward_pre_hooks):\n\u001b[0;32m-> 1501\u001b[0m     \u001b[39mreturn\u001b[39;00m forward_call(\u001b[39m*\u001b[39margs, \u001b[39m*\u001b[39m\u001b[39m*\u001b[39mkwargs)\n\u001b[1;32m   1502\u001b[0m \u001b[39m# Do not call functions when jit is used\u001b[39;00m\n\u001b[1;32m   1503\u001b[0m full_backward_hooks, non_full_backward_hooks \u001b[39m=\u001b[39m [], []\n",
      "File \u001b[0;32m/blue/hennig/ericfonseca/conda/meg/lib/python3.11/site-packages/matgl/models/_megnet.py:173\u001b[0m, in \u001b[0;36mMEGNet.forward\u001b[0;34m(self, graph, edge_feat, node_feat, state_feat)\u001b[0m\n\u001b[1;32m    171\u001b[0m graph_transformations \u001b[39m=\u001b[39m \u001b[39mself\u001b[39m\u001b[39m.\u001b[39mgraph_transformations\n\u001b[1;32m    172\u001b[0m edge_feat \u001b[39m=\u001b[39m \u001b[39mself\u001b[39m\u001b[39m.\u001b[39medge_encoder(\u001b[39mself\u001b[39m\u001b[39m.\u001b[39mlayer_edge_embedding(edge_feat))\n\u001b[0;32m--> 173\u001b[0m node_feat \u001b[39m=\u001b[39m \u001b[39mself\u001b[39m\u001b[39m.\u001b[39mnode_encoder(\u001b[39mself\u001b[39m\u001b[39m.\u001b[39mlayer_node_embedding(node_feat))\n\u001b[1;32m    174\u001b[0m \u001b[39mif\u001b[39;00m \u001b[39mself\u001b[39m\u001b[39m.\u001b[39minclude_state_embedding:\n\u001b[1;32m    175\u001b[0m     state_feat \u001b[39m=\u001b[39m \u001b[39mself\u001b[39m\u001b[39m.\u001b[39mstate_encoder(\u001b[39mself\u001b[39m\u001b[39m.\u001b[39mlayer_state_embedding(state_feat))\n",
      "File \u001b[0;32m/blue/hennig/ericfonseca/conda/meg/lib/python3.11/site-packages/torch/nn/modules/module.py:1501\u001b[0m, in \u001b[0;36mModule._call_impl\u001b[0;34m(self, *args, **kwargs)\u001b[0m\n\u001b[1;32m   1496\u001b[0m \u001b[39m# If we don't have any hooks, we want to skip the rest of the logic in\u001b[39;00m\n\u001b[1;32m   1497\u001b[0m \u001b[39m# this function, and just call forward.\u001b[39;00m\n\u001b[1;32m   1498\u001b[0m \u001b[39mif\u001b[39;00m \u001b[39mnot\u001b[39;00m (\u001b[39mself\u001b[39m\u001b[39m.\u001b[39m_backward_hooks \u001b[39mor\u001b[39;00m \u001b[39mself\u001b[39m\u001b[39m.\u001b[39m_backward_pre_hooks \u001b[39mor\u001b[39;00m \u001b[39mself\u001b[39m\u001b[39m.\u001b[39m_forward_hooks \u001b[39mor\u001b[39;00m \u001b[39mself\u001b[39m\u001b[39m.\u001b[39m_forward_pre_hooks\n\u001b[1;32m   1499\u001b[0m         \u001b[39mor\u001b[39;00m _global_backward_pre_hooks \u001b[39mor\u001b[39;00m _global_backward_hooks\n\u001b[1;32m   1500\u001b[0m         \u001b[39mor\u001b[39;00m _global_forward_hooks \u001b[39mor\u001b[39;00m _global_forward_pre_hooks):\n\u001b[0;32m-> 1501\u001b[0m     \u001b[39mreturn\u001b[39;00m forward_call(\u001b[39m*\u001b[39margs, \u001b[39m*\u001b[39m\u001b[39m*\u001b[39mkwargs)\n\u001b[1;32m   1502\u001b[0m \u001b[39m# Do not call functions when jit is used\u001b[39;00m\n\u001b[1;32m   1503\u001b[0m full_backward_hooks, non_full_backward_hooks \u001b[39m=\u001b[39m [], []\n",
      "File \u001b[0;32m/blue/hennig/ericfonseca/conda/meg/lib/python3.11/site-packages/torch/nn/modules/sparse.py:162\u001b[0m, in \u001b[0;36mEmbedding.forward\u001b[0;34m(self, input)\u001b[0m\n\u001b[1;32m    161\u001b[0m \u001b[39mdef\u001b[39;00m \u001b[39mforward\u001b[39m(\u001b[39mself\u001b[39m, \u001b[39minput\u001b[39m: Tensor) \u001b[39m-\u001b[39m\u001b[39m>\u001b[39m Tensor:\n\u001b[0;32m--> 162\u001b[0m     \u001b[39mreturn\u001b[39;00m F\u001b[39m.\u001b[39membedding(\n\u001b[1;32m    163\u001b[0m         \u001b[39minput\u001b[39m, \u001b[39mself\u001b[39m\u001b[39m.\u001b[39mweight, \u001b[39mself\u001b[39m\u001b[39m.\u001b[39mpadding_idx, \u001b[39mself\u001b[39m\u001b[39m.\u001b[39mmax_norm,\n\u001b[1;32m    164\u001b[0m         \u001b[39mself\u001b[39m\u001b[39m.\u001b[39mnorm_type, \u001b[39mself\u001b[39m\u001b[39m.\u001b[39mscale_grad_by_freq, \u001b[39mself\u001b[39m\u001b[39m.\u001b[39msparse)\n",
      "File \u001b[0;32m/blue/hennig/ericfonseca/conda/meg/lib/python3.11/site-packages/torch/nn/functional.py:2210\u001b[0m, in \u001b[0;36membedding\u001b[0;34m(input, weight, padding_idx, max_norm, norm_type, scale_grad_by_freq, sparse)\u001b[0m\n\u001b[1;32m   2204\u001b[0m     \u001b[39m# Note [embedding_renorm set_grad_enabled]\u001b[39;00m\n\u001b[1;32m   2205\u001b[0m     \u001b[39m# XXX: equivalent to\u001b[39;00m\n\u001b[1;32m   2206\u001b[0m     \u001b[39m# with torch.no_grad():\u001b[39;00m\n\u001b[1;32m   2207\u001b[0m     \u001b[39m#   torch.embedding_renorm_\u001b[39;00m\n\u001b[1;32m   2208\u001b[0m     \u001b[39m# remove once script supports set_grad_enabled\u001b[39;00m\n\u001b[1;32m   2209\u001b[0m     _no_grad_embedding_renorm_(weight, \u001b[39minput\u001b[39m, max_norm, norm_type)\n\u001b[0;32m-> 2210\u001b[0m \u001b[39mreturn\u001b[39;00m torch\u001b[39m.\u001b[39membedding(weight, \u001b[39minput\u001b[39m, padding_idx, scale_grad_by_freq, sparse)\n",
      "\u001b[0;31mIndexError\u001b[0m: index out of range in self"
     ]
    }
   ],
   "source": [
    "gtest = torch.tensor([0])\n",
    "bandgap = model.predict_structure(strucs[10], gtest)"
   ]
  },
  {
   "cell_type": "code",
   "execution_count": null,
   "metadata": {},
   "outputs": [
    {
     "name": "stdout",
     "output_type": "stream",
     "text": [
      "0\n",
      "1\n",
      "2\n",
      "3\n",
      "4\n",
      "5\n",
      "6\n",
      "7\n",
      "8\n",
      "9\n",
      "10\n",
      "11\n",
      "12\n",
      "13\n",
      "14\n",
      "15\n",
      "16\n",
      "17\n",
      "18\n",
      "19\n"
     ]
    },
    {
     "data": {
      "text/plain": [
       "(tensor([]), tensor([]))"
      ]
     },
     "execution_count": 95,
     "metadata": {},
     "output_type": "execute_result"
    }
   ],
   "source": [
    "pred = torch.tensor([])\n",
    "plot_y = torch.tensor([])\n",
    "for i in range(len(test_strucs)):\n",
    "    try:\n",
    "        pred = torch.cat((pred,model.predict_structure(strucs[i]).unsqueeze(0)))\n",
    "        plot_y = torch.cat((plot_y,torch.tensor([test_targets[i]])))\n",
    "    except:\n",
    "        print(i)\n",
    "        continue\n",
    "pred, plot_y"
   ]
  },
  {
   "cell_type": "code",
   "execution_count": null,
   "metadata": {},
   "outputs": [
    {
     "data": {
      "text/plain": [
       "(0.0, 1.0)"
      ]
     },
     "execution_count": 68,
     "metadata": {},
     "output_type": "execute_result"
    },
    {
     "data": {
      "image/png": "[encoded data removed]",
      "text/plain": [
       "<Figure size 640x480 with 1 Axes>"
      ]
     },
     "metadata": {},
     "output_type": "display_data"
    }
   ],
   "source": [
    "plt.scatter(plot_y, pred)\n",
    "plt.xlim([0, 1])"
   ]
  },
  {
   "cell_type": "code",
   "execution_count": null,
   "metadata": {},
   "outputs": [],
   "source": []
  }
 ],
 "metadata": {
  "kernelspec": {
   "display_name": "Python 3 (ipykernel)",
   "language": "python",
   "name": "python3"
  },
  "language_info": {
   "codemirror_mode": {
    "name": "ipython",
    "version": 3
   },
   "file_extension": ".py",
   "mimetype": "text/x-python",
   "name": "python",
   "nbconvert_exporter": "python",
   "pygments_lexer": "ipython3",
   "version": "3.11.3"
  },
  "orig_nbformat": 4
 },
 "nbformat": 4,
 "nbformat_minor": 2
}
